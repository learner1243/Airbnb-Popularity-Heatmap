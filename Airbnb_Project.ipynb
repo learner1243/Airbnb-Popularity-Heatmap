{
 "cells": [
  {
   "cell_type": "markdown",
   "metadata": {},
   "source": [
    "<img src=\"https://i2.wp.com/hackwagon.com/wp-content/uploads/2017/02/Logo-Web-Export.png?ssl=1\" width=200/>\n",
    "<h1>Hackwagon Academy - DS101 </h1>\n",
    "\n",
    "<h1>AirBnB Project</h1>\n",
    "\n",
    "<b>Learning Outcomes:</b>\n",
    "- Learn how to translate business requirements into workable applications\n",
    "- Declare variables, and manipulate the variables to perform arithmetic operations\n",
    "- Create a list, append new elements to a list, remove elements from list, and access elements within a list\n",
    "- Create a dictionary, access data, and update information within the dictionary\n",
    "- Be able to aptly make use of if and nested if constructs\n",
    "- Variable conversion\n",
    "- Produce visualisations\n",
    "- Able to come up with insights based on the data \n",
    "\n",
    "This lab exercise consists of 10 questions, with each correct answer to be awarded 2 marks, totalling up to 20 marks.\n",
    "\n",
    "Attempt but minor syntax errors are awarded half the mark."
   ]
  },
  {
   "cell_type": "code",
   "execution_count": 1,
   "metadata": {},
   "outputs": [],
   "source": [
    "#Before you start, please perform the following 2 steps:\n",
    "#1. Rename the file to <First_Name>_<Last_Name>_DS101_Lab_1 e.g. john_doe_DS101_Lab_1\n",
    "\n",
    "#2. Fill in your details here:\n",
    "#Name                    : kan kar shen_______________________\n",
    "\n",
    "#Start of Course Class(Edit accordingly): __22 Dec 2018 12.15pm____\n",
    "# FOR TA/INSTRUCTOR \n",
    "# Total Marks: 20/ 20"
   ]
  },
  {
   "cell_type": "markdown",
   "metadata": {},
   "source": [
    "<h3> References </h3>\n",
    "\n",
    "<h3> <center> Important Collections Functions </center> </h3>\n",
    "<h3> <center> Creation </center></h3>\n",
    "\n",
    "|Collection Type | Function | Examples |\n",
    "| ---------|---------|---------|\n",
    "| `list` | <center>None</center>| `new_list = []` <br><br> `new_list = [1,2,3,4]` |\n",
    "| `dict` | <center>None</center>| `new_dict = {}` <br><br> `new_dict = {'a': 1, 'b':2}`|\n",
    "\n",
    "<h3><center> Add / Appending Data </center></h3>\n",
    "\n",
    "|Collection Type | Functions | Examples | Resulting Output|\n",
    "| ---------|---------|---------| ------ |\n",
    "| `list` | <center>`.append()`</center>| `new_list = [1,2,3]` <br><br> `new_list.append(4)` | `[1,2,3,4]`|\n",
    "| `list` | <center>`.extend()`</center>| `new_list = [1,2]` <br><br> `new_list.extend([3,4])` | `[1,2,3,4]`|\n",
    "| `dict` | <center>None</center>| `new_dict = {}` <br><br> `new_dict['a'] = 1` <br><br> `new_dict['b'] = 2` | `{'a': 1, 'b':2}`|\n",
    "\n",
    "<h3> <center> Updating / Changing Data </center></h3>\n",
    "\n",
    "|Collection Type | Functions | Examples | Resulting Output|\n",
    "| ---------|---------|---------| ------ |\n",
    "| `list` | <center>None</center>| `new_list = [1,2,3]` <br><br> `new_list[0] = 5` | `[5,2,3]`|\n",
    "| `dict` | <center>None</center>| `new_dict = {'a': 1, 'b':2}` <br><br> `new_dict['a'] = 10`| `{'a': 10, 'b':2}`|\n",
    "\n",
    "<h3> <center> Accessing / Taking Out Data </center></h3>\n",
    "\n",
    "|Collection Type | Functions | x to be| Examples |\n",
    "| ---------|---------|---------| ------ |\n",
    "| `list` | <center>None</center>| 3 |`new_list = [1,2,3]` <br><br> `x = new_list[2] `|\n",
    "| `list of list` | <center>None</center>|3 |`new_list = [[1,2],[3,4]]` <br><br> `x = new_list[1][0] `|\n",
    "| `list of dict` | <center>None</center>| 2 |`new_list = [{'a':1},{'b':2}]` <br><br> `x = new_list[1]['b'] `|\n",
    "| `dict` | <center>None</center>| 2|`new_dict = {'a': 1, 'b':2}` <br><br> `x = new_dict['b']`|\n",
    "\n",
    "<h3>CITU Framework & Applied Iterations</h3>\n",
    "\n",
    "1. What variables do you need to answer this question?\n",
    "1. <b>Create</b> the results container\n",
    "2. <b>Iterate</b> the input data/list\n",
    "3. <b>Take out the variables you needed in step 1</b>\n",
    "3. <b>Test</b> conditions of each value\n",
    "4. <b>Update</b> the results container when condition is fulfilled\n",
    "\n",
    "<h3> Sorting Values</h3>\n",
    "```python\n",
    "    \n",
    "x = [10,20,50,2,4]\n",
    "x.sort()\n",
    "print(x) # [2,4,10,20,50]\n",
    "x.sort(reverse=True)\n",
    "print(x) # [50,20,10,4,2]\n",
    "```\n",
    "Further explore the .sort() function in the documentation\n",
    "\n",
    "Search up 'list .sort() python 3.0' \n"
   ]
  },
  {
   "cell_type": "markdown",
   "metadata": {},
   "source": [
    "<hr>\n",
    "\n",
    "</hr>\n",
    "<br>\n",
    "</br>\n",
    "\n",
    "<img src=\"http://www.stickpng.com/assets/images/580b57fcd9996e24bc43c513.png\" width=\"400\">\n",
    "<br>\n",
    "</br>\n",
    "<br>\n",
    "</br>\n",
    "<b>Welcome to your final project of Hackwagon Academy DS101! You've come a long way since the start of this course and if you've been on track with our exercises, you should find this doable. </b>\n",
    "\n",
    "Airbnb is an online marketplace and hospitality service, enabling people to lease or rent short-term lodging including vacation rentals, apartment rentals, homestays, hostel beds, or hotel rooms. The company does not own any lodging; it is merely a broker and receives percentage service fees (commissions) from both guests and hosts in conjunction with every booking. In this project, we aim to use algorithms and libraries to mine the reviews people have submitted on Singapore AirBnB rentals in order to provide descriptive analytics.\n",
    "\n",
    "\n",
    "## Load File\n",
    "Load the `airbnb_data.csv` as <b>a list of dictionaries</b>. Once you load the data, you should see something like this:\n",
    "```python\n",
    "    [\n",
    "        {\n",
    "         'listing_id': '1133718',\n",
    "         'survey_id': '1280',\n",
    "         'host_id': '6219420',\n",
    "         'room_type': 'Shared room',\n",
    "         'country': '',\n",
    "         'city': 'Singapore',\n",
    "         'borough': '',\n",
    "         'neighborhood': 'MK03',\n",
    "         'reviews': '9',\n",
    "         'overall_satisfaction': '4.5',\n",
    "         'accommodates': '12',\n",
    "         'bedrooms': '1.0',\n",
    "         'bathrooms': '',\n",
    "         'price': '74.0',\n",
    "         'minstay': '',\n",
    "         'last_modified': '2017-05-17 09:10:25.431659',\n",
    "         'latitude': '1.293354',\n",
    "         'longitude': '103.769226',\n",
    "         'location': '0101000020E6100000E84EB0FF3AF159409C69C2F693B1F43F'\n",
    "        }\n",
    "        ...\n",
    "    ]\n",
    "```"
   ]
  },
  {
   "cell_type": "code",
   "execution_count": 2,
   "metadata": {},
   "outputs": [
    {
     "name": "stdout",
     "output_type": "stream",
     "text": [
      "[{'listing_id': '1133718', 'survey_id': '1280', 'host_id': '6219420', 'room_type': 'Shared room', 'country': '', 'city': 'Singapore', 'borough': '', 'neighborhood': 'MK03', 'reviews': '9', 'overall_satisfaction': '4.5', 'accommodates': '12', 'bedrooms': '1.0', 'bathrooms': '', 'price': '74.0', 'minstay': '', 'last_modified': '2017-05-17 09:10:25.431659', 'latitude': '1.293354', 'longitude': '103.769226', 'location': '0101000020E6100000E84EB0FF3AF159409C69C2F693B1F43F'}]\n"
     ]
    }
   ],
   "source": [
    "#Write code below\n",
    "import csv\n",
    "\n",
    "airbnb_data=[]\n",
    "with open(\"airbnb_data.csv\") as csvfile:\n",
    "    spam_reader=csv.DictReader(csvfile, delimiter=\",\")\n",
    "    for i in spam_reader:\n",
    "        airbnb_data.append(dict(i))            #use CITU framework from here\n",
    "print(airbnb_data[:1])\n",
    "#correct goodjob!"
   ]
  },
  {
   "cell_type": "markdown",
   "metadata": {},
   "source": [
    "### Question 1 - Data Cleaning\n",
    "Preview your data and clean them to appropriate type. Namely these columns:\n",
    "1. `overall_satisfaction`\n",
    "2. `price`\n",
    "3. `longtitude`\n",
    "4. `latitude`\n",
    "5. `reviews`\n",
    "\n",
    "<b>Expected Output:</b>\n",
    "```python\n",
    "    {\n",
    "        'listing_id': '1133718',\n",
    "        'survey_id': '1280',\n",
    "        'host_id': '6219420',\n",
    "        'room_type': 'Shared room',\n",
    "        'country': '',\n",
    "        'city': 'Singapore',\n",
    "        'borough': '',\n",
    "        'neighborhood': 'MK03',\n",
    "        'reviews': 9.0,\n",
    "        'overall_satisfaction': 4.5,\n",
    "        'accommodates': '12',\n",
    "        'bedrooms': '1.0',\n",
    "        'bathrooms': '',\n",
    "        'price': 74.0,\n",
    "        'minstay': '',\n",
    "        'last_modified': '2017-05-17 09:10:25.431659',\n",
    "        'latitude': 1.293354,\n",
    "        'longitude': 103.769226,\n",
    "        'location': '0101000020E6100000E84EB0FF3AF159409C69C2F693B1F43F'\n",
    "    }\n",
    "```"
   ]
  },
  {
   "cell_type": "code",
   "execution_count": 3,
   "metadata": {},
   "outputs": [
    {
     "name": "stdout",
     "output_type": "stream",
     "text": [
      "{'listing_id': '1133718', 'survey_id': '1280', 'host_id': '6219420', 'room_type': 'Shared room', 'country': '', 'city': 'Singapore', 'borough': '', 'neighborhood': 'MK03', 'reviews': 9.0, 'overall_satisfaction': 4.5, 'accommodates': '12', 'bedrooms': '1.0', 'bathrooms': '', 'price': 74.0, 'minstay': '', 'last_modified': '2017-05-17 09:10:25.431659', 'latitude': 1.293354, 'longitude': 103.769226, 'location': '0101000020E6100000E84EB0FF3AF159409C69C2F693B1F43F'}\n"
     ]
    }
   ],
   "source": [
    "#Write code below\n",
    "for product in airbnb_data:\n",
    "    product[\"overall_satisfaction\"]=float(product[\"overall_satisfaction\"])\n",
    "    product[\"price\"]=float(product[\"price\"])\n",
    "    product[\"longitude\"]=float(product[\"longitude\"])\n",
    "    product[\"latitude\"]=float(product[\"latitude\"])\n",
    "    product[\"reviews\"]=float(product[\"reviews\"])\n",
    "print(airbnb_data[0]) #used list slicing, hence it will still be in a list. print index itself to get the dict\n",
    "#correct goodjob!"
   ]
  },
  {
   "cell_type": "markdown",
   "metadata": {},
   "source": [
    "## Descriptive Analytics Report Generation\n",
    "The data team at AirBnB wishes to find out the answers to a few simple questions on the existing rooms in Singapore. Your goal is to manipulate the data you have stored in the list of dictionaries to generate a report for the following questions:"
   ]
  },
  {
   "cell_type": "markdown",
   "metadata": {},
   "source": [
    "### Question 2 - Which hosts in Singapore have more than 30 listings. How many of such hosts do we have?\n",
    "\n",
    "<i> Hint\n",
    "1. Counting with dictionaries concept\n",
    "2. Requires 2 INDEPENDENT for loops\n",
    "    - first gets all the counts\n",
    "    - second filters\n",
    "</i>\n",
    "\n",
    "<b>Expected Output:</b>\n",
    "    \n",
    "    28"
   ]
  },
  {
   "cell_type": "code",
   "execution_count": 4,
   "metadata": {},
   "outputs": [
    {
     "name": "stdout",
     "output_type": "stream",
     "text": [
      "28\n"
     ]
    }
   ],
   "source": [
    "#Write code below\n",
    "host_listing=0\n",
    "host={}\n",
    "for i in airbnb_data:\n",
    "    if i[\"host_id\"] in host:\n",
    "        host[i[\"host_id\"]]+=1\n",
    "    else:\n",
    "        host[i[\"host_id\"]]=1\n",
    "\n",
    "counter=0\n",
    "for j in host:\n",
    "    if host[j]>30:\n",
    "        counter+=1\n",
    "print(counter)\n",
    "#correct goodjob!"
   ]
  },
  {
   "cell_type": "markdown",
   "metadata": {},
   "source": [
    "### Question 3 - What is the average price of the listings in the neighbourhood ```MK03```?\n",
    "\n",
    "<i> Hint\n",
    "1. Create the appropriate containers to get average\n",
    "2. Check the neighborhood\n",
    "</i>\n",
    "\n",
    "<b>Expected Output:</b>\n",
    "\n",
    "    76.91875"
   ]
  },
  {
   "cell_type": "code",
   "execution_count": 5,
   "metadata": {},
   "outputs": [
    {
     "name": "stdout",
     "output_type": "stream",
     "text": [
      "76.91875\n"
     ]
    }
   ],
   "source": [
    "#Write code below\n",
    "total_price=0\n",
    "counter=0\n",
    "for i in airbnb_data:\n",
    "    if i[\"neighborhood\"]==\"MK03\":\n",
    "        total_price+=i[\"price\"]\n",
    "        counter+=1\n",
    "    else:\n",
    "        total_price+=0\n",
    "        counter+=0\n",
    "total_price= total_price/counter\n",
    "print(total_price)\n",
    "#correct goodjob!"
   ]
  },
  {
   "cell_type": "markdown",
   "metadata": {},
   "source": [
    "### Question 4 - What are the *top 10 priciest listings in Singapore*? List the `listing_id` as well as `price`.\n",
    "\n",
    "<i> Hint\n",
    "1. Create a list that will store many listing_id - price pairs\n",
    "2. Sort once you have this list of pairs\n",
    "3. Look up the sorting documentation (search 'python 3 sort()')\n",
    "</i>\n",
    "\n",
    "<b>Expected Output:</b>\n",
    "\n",
    "    [\n",
    "        ['16395877', 8023.0], \n",
    "        ['9815599', 3309.0], \n",
    "        ['13117403', 3029.0], \n",
    "        ['17794853', 2206.0], \n",
    "        ['14620083', 2164.0], \n",
    "        ['16327246', 2059.0], \n",
    "        ['5775503', 1103.0], \n",
    "        ['12372683', 1029.0], \n",
    "        ['15861144', 1027.0], \n",
    "        ['9020629', 981.0]\n",
    "    ]"
   ]
  },
  {
   "cell_type": "code",
   "execution_count": 6,
   "metadata": {},
   "outputs": [
    {
     "data": {
      "text/plain": [
       "[['16395877', 8023.0],\n",
       " ['9815599', 3309.0],\n",
       " ['13117403', 3029.0],\n",
       " ['17794853', 2206.0],\n",
       " ['14620083', 2164.0],\n",
       " ['16327246', 2059.0],\n",
       " ['5775503', 1103.0],\n",
       " ['12372683', 1029.0],\n",
       " ['15861144', 1027.0],\n",
       " ['9020629', 981.0]]"
      ]
     },
     "execution_count": 6,
     "metadata": {},
     "output_type": "execute_result"
    }
   ],
   "source": [
    "#Write code below\n",
    "price=[]\n",
    "for i in airbnb_data:\n",
    "    listing=i[\"listing_id\"]\n",
    "    prices=i[\"price\"]\n",
    "    price.append([listing,prices])\n",
    "price.sort(key=lambda x:x[1])\n",
    "price=price[::-1]\n",
    "price[:10]\n",
    "#correct goodjob!"
   ]
  },
  {
   "cell_type": "markdown",
   "metadata": {},
   "source": [
    "### Question 5 - What are the top 10 most expensive neighborhoods based on their average price, with at least 10 listings?\n",
    "<i> Hint\n",
    "1. Advanced counting with dictionary concept\n",
    "1. Requires 2 INDEPENDENT for loops\n",
    "    - First loop \n",
    "        - Counts with dictionary, with key as neighborhood and value as a list of all prices\n",
    "    \n",
    "    - Create a list for second loop \n",
    "    - Second loop\n",
    "        - Filters out the lists with at least 10 listings\n",
    "        - Stores neighborhood and average_price into that list \n",
    "3. Sort that list like question 2\n",
    "</i>\n",
    "\n",
    "<b>Expected Output:</b>\n",
    "\n",
    "    [\n",
    "        ['MK34', 1428.6666666666667],\n",
    "        ['TS01', 279.1818181818182],\n",
    "        ['TS30', 213.51351351351352],\n",
    "        ['TS27', 191.94495412844037],\n",
    "        ['TS02', 153.48648648648648],\n",
    "        ['TS29', 149.7111111111111],\n",
    "        ['TS25', 148.73529411764707],\n",
    "        ['MK17', 145.51006711409397],\n",
    "        ['TS03', 140.09558823529412],\n",
    "        ['TS05', 138.42]\n",
    "    ]"
   ]
  },
  {
   "cell_type": "code",
   "execution_count": 27,
   "metadata": {},
   "outputs": [
    {
     "name": "stdout",
     "output_type": "stream",
     "text": [
      "[['MK34', 1428.6666666666667], ['TS01', 279.1818181818182], ['TS30', 213.51351351351352], ['TS27', 191.94495412844037], ['TS02', 153.48648648648648], ['TS29', 149.7111111111111], ['TS25', 148.73529411764707], ['MK17', 145.51006711409397], ['TS03', 140.09558823529412], ['TS05', 138.42]]\n"
     ]
    }
   ],
   "source": [
    "#Write code below\n",
    "neighbor={}\n",
    "for i in airbnb_data:\n",
    "    prices=i[\"price\"]\n",
    "    neighbourhood=i[\"neighborhood\"]\n",
    "    \n",
    "    if neighbourhood not in neighbor:\n",
    "        neighbor[neighbourhood]= [prices]\n",
    "    else:\n",
    "        neighbor[neighbourhood].append(prices)\n",
    "    \n",
    "    \n",
    "# print(neighbor)\n",
    "abc=[]\n",
    "\n",
    "for j in neighbor:\n",
    "    if len(neighbor[j])>=10:     #the neighbor is dictionary so j is referring to the key\n",
    "        total_price=sum(neighbor[j])\n",
    "        average_price=total_price/len(neighbor[j])\n",
    "        abc.append([j,average_price])\n",
    "abc.sort(key=lambda x:x[1])\n",
    "abc=abc[::-1]\n",
    "print(abc[:10])\n",
    "#correct goodjob!  "
   ]
  },
  {
   "cell_type": "markdown",
   "metadata": {},
   "source": [
    "### Question 6 - For hosts that host more than 10 listings, what are the top 10 host_id has the highest average satisfaction level where each listing has at least had 1 review?\n",
    "<i> Hint\n",
    "1. Similar to question 5\n",
    "2. Advanced counting with dictionary concept\n",
    "3. Requires 2 INDEPENDENT for loops\n",
    "    - First loop \n",
    "        - Counts with dictionary, with key as host and value as a list of all satisfaction\n",
    "    \n",
    "    - Create a list for second loop \n",
    "    - Second loop\n",
    "        - Filters out the lists with at least 10 listings\n",
    "        - Stores host_id and average satisfaction into that list \n",
    "4. Sort that list like question 2\n",
    "</i>\n",
    "\n",
    "<b>Expected Output:</b>\n",
    "\n",
    "    [\n",
    "        ['4705949', 4.8],\n",
    "        ['882659', 4.75],\n",
    "        ['20828188', 4.730769230769231],\n",
    "        ['6609641', 4.5],\n",
    "        ['20874965', 4.433333333333334],\n",
    "        ['17526618', 4.375],\n",
    "        ['19689637', 4.346153846153846],\n",
    "        ['14521708', 4.315384615384615],\n",
    "        ['3544325', 4.266666666666667],\n",
    "        ['23722617', 4.205882352941177]\n",
    "    ]"
   ]
  },
  {
   "cell_type": "code",
   "execution_count": 30,
   "metadata": {},
   "outputs": [
    {
     "name": "stdout",
     "output_type": "stream",
     "text": [
      "[['4705949', 4.8], ['882659', 4.75], ['20828188', 4.730769230769231], ['6609641', 4.5], ['7095710', 4.45], ['20874965', 4.433333333333334], ['17526618', 4.375], ['19689637', 4.346153846153846], ['14521708', 4.315384615384615], ['3544325', 4.266666666666667]]\n"
     ]
    }
   ],
   "source": [
    "#Write code below\n",
    "host={}\n",
    "for i in airbnb_data:\n",
    "    satisfaction=i[\"overall_satisfaction\"]\n",
    "    hosts_id=i[\"host_id\"]\n",
    "    review=i[\"reviews\"]\n",
    "    if review>=1:\n",
    "        if hosts_id not in host:\n",
    "            host[hosts_id]= [satisfaction]   #add to key\n",
    "        else:\n",
    "            host[hosts_id].append(satisfaction)  #append to key\n",
    "    \n",
    "    \n",
    "# print(neighbor)\n",
    "abc=[]\n",
    "\n",
    "for j in host:\n",
    "    if len(host[j])>=10:     #the neighbor is dictionary so j is referring to the key\n",
    "        total_price=sum(host[j])\n",
    "        average_price=total_price/len(host[j])\n",
    "        abc.append([j,average_price])\n",
    "abc.sort(key=lambda x:x[1])\n",
    "abc=abc[::-1]\n",
    "print(abc[:10])\n",
    "\n",
    "#cher method\n",
    "# for host1,sat in host.items():\n",
    "#     if len(sat)>=10:\n",
    "#         avgsat=sum(sat)/len(sat)\n",
    "#         abc.append([host1,sat])\n",
    "#abc.sort(key=lambda x:x[1])\n",
    "#print(abc[:10])\n",
    "\n",
    "# 'listing_id': '1133718',\n",
    "#          'survey_id': '1280',\n",
    "#          'host_id': '6219420',\n",
    "#          'room_type': 'Shared room',\n",
    "#          'country': '',\n",
    "#          'city': 'Singapore',\n",
    "#          'borough': '',\n",
    "#          'neighborhood': 'MK03',\n",
    "#          'reviews': '9',\n",
    "#          'overall_satisfaction': '4.5',\n",
    "#          'accommodates': '12',\n",
    "#          'bedrooms': '1.0',\n",
    "#          'bathrooms': '',\n",
    "#          'price': '74.0',\n",
    "#          'minstay': '',\n",
    "#          'last_modified': '2017-05-17 09:10:25.431659',\n",
    "#          'latitude': '1.293354',\n",
    "#          'longitude': '103.769226',\n",
    "#          'location': '0101000020E6100000E84EB0FF3AF159409C69C2F693B1F43F'\n",
    "#correct goodjob!"
   ]
  },
  {
   "cell_type": "markdown",
   "metadata": {},
   "source": [
    "## Visualisation"
   ]
  },
  {
   "cell_type": "markdown",
   "metadata": {},
   "source": [
    "### Question 7 - With the neighborhood ids in question 5, plot a geographical representation (scatter plot) of all the listings found in each of the top 10 neighborhoods\n",
    "<i> Hint\n",
    "1. Get all the neighborhood id in a list\n",
    "2. Create the x and y axis lists\n",
    "3. Check that neighbourhood id list against the whole data set and append lat and lon accordingly\n",
    "4. Plot as a scatterplot\n",
    "</i>\n"
   ]
  },
  {
   "cell_type": "code",
   "execution_count": 33,
   "metadata": {},
   "outputs": [
    {
     "data": {
      "image/png": "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\n",
      "text/plain": [
       "<Figure size 432x288 with 1 Axes>"
      ]
     },
     "metadata": {
      "needs_background": "light"
     },
     "output_type": "display_data"
    }
   ],
   "source": [
    "# Remember to import the relevant library/libraries!\n",
    "#Write code below\n",
    "ids=['MK34', 'TS01' , 'TS30' , 'TS27',\"TS02\",'TS29','TS25','MK17','TS03','TS05']\n",
    "x=[]\n",
    "y=[]\n",
    "for i in airbnb_data:\n",
    "    neigh=i[\"neighborhood\"]\n",
    "    lat=i[\"latitude\"]\n",
    "    lon=i[\"longitude\"]\n",
    "    if neigh in ids:\n",
    "        x.append(lon)\n",
    "        y.append(lat)\n",
    "\n",
    "import matplotlib.pyplot as plt\n",
    "\n",
    "plt.scatter(x,y) #for graph\n",
    "plt.xlabel(\"lon\")\n",
    "plt.ylabel(\"lat\")\n",
    "plt.show()\n",
    "\n",
    "#correct goodjob!"
   ]
  },
  {
   "cell_type": "markdown",
   "metadata": {},
   "source": [
    "### Question 8 - With the host ids in question 6, plot a geographical representation (scatter plot) of all the listings found in each of top 10 host ids\n",
    "<i> Hint\n",
    "1. Get all the host id in a list\n",
    "2. Create the x and y axis lists\n",
    "3. Check the host id list against the whole data set and append lat and lon accordingly\n",
    "4. Plot as a scatterplot\n",
    "</i>"
   ]
  },
  {
   "cell_type": "code",
   "execution_count": 39,
   "metadata": {},
   "outputs": [
    {
     "data": {
      "image/png": "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\n",
      "text/plain": [
       "<Figure size 432x288 with 1 Axes>"
      ]
     },
     "metadata": {
      "needs_background": "light"
     },
     "output_type": "display_data"
    }
   ],
   "source": [
    "#Write code below\n",
    "host_id=['4705949', '882659','20828188','6609641','20874965','17526618','19689637','14521708','3544325','23722617',]\n",
    "x=[]\n",
    "y=[]\n",
    "for i in airbnb_data:\n",
    "    ids=i[\"host_id\"]\n",
    "    latitude=i[\"latitude\"]\n",
    "    longitude=i[\"longitude\"]\n",
    "    if ids in host_id:\n",
    "        x.append(longitude)\n",
    "        y.append(latitude)\n",
    "import matplotlib.pyplot as plt\n",
    "\n",
    "plt.scatter(x,y) #for graph\n",
    "plt.xlabel(\"longitude\")\n",
    "plt.ylabel(\"latitude\")\n",
    "plt.show()\n",
    "#correct goodjob!"
   ]
  },
  {
   "cell_type": "markdown",
   "metadata": {},
   "source": [
    "### Satisfaction Map\n",
    "\n",
    "The data team at AirBnB wishes to find out which region of Singapore has rooms that people are generally more satisfied with. Any room which has a rating `>4` would indicate a highly satisfactory room, and `>=2.5` would indicate an average room. Any rating `<2.5` indicates an unsatisfactory room. \n",
    "\n",
    "<b>The AirBnB team hypothesised that the North-East region of Singapore has more rooms with higher satisfaction rating.</b> \n",
    "\n",
    "As the data team, your goal is to find out whether the hypothesis stands true by providing descriptive analytics to allow the AirBnB team to better visualise the satisfaction levels for the whole of Singapore.\n",
    "\n",
    "Given the dataset provided to us, each room has a geographical location specified by its longtitude and latitude. Longtitude and latitude can be considered to be merely a set of X and Y coordinates on an axis, where the format follows such a manner e.g. `(103.76922, 1.293354)`. What this means for us is that, geographical locations on a map can be represented easily on a scatter plot. This allows us to make use of our pre-existing knowledge on the construction of scatter plots to build a simple heatmap to visualise the satisfaction levels of different rooms in Singapore!\n",
    "\n",
    "> __Note:__ Consult existing heatmap-through-scatterplot examples, consider the following resource: http://geodesygina.com/matplotlib.html <br>\n",
    "> Focus on how the data are prepared for visualization and after the preparation, look at the part on __\"Coloring Points in a Scatter Plot\" __"
   ]
  },
  {
   "cell_type": "markdown",
   "metadata": {},
   "source": [
    "### Question 9 - Overall Satisfaction Map"
   ]
  },
  {
   "cell_type": "code",
   "execution_count": 43,
   "metadata": {},
   "outputs": [
    {
     "data": {
      "image/png": "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\n",
      "text/plain": [
       "<Figure size 432x288 with 2 Axes>"
      ]
     },
     "metadata": {
      "needs_background": "light"
     },
     "output_type": "display_data"
    }
   ],
   "source": [
    "# Remember to import the relevant library/libraries!\n",
    "#Write code below\n",
    "ratings=[]\n",
    "x=[]\n",
    "y=[]\n",
    "for i in airbnb_data:\n",
    "    rating=i[\"overall_satisfaction\"]\n",
    "    longitude=i[\"longitude\"]\n",
    "    latitude=i[\"latitude\"]\n",
    "    ratings.append(rating)\n",
    "    x.append(longitude)\n",
    "    y.append(latitude)\n",
    "    \n",
    "\n",
    "fig, ax = plt.subplots()\n",
    "plt.scatter(x,y,c=ratings)\n",
    "#Plot for SG\n",
    "# add some text for labels, title and axes ticks\n",
    "ax.set_xlabel('longitude')\n",
    "ax.set_ylabel('latitude')\n",
    "ax.set_title('Satisfaction Map')\n",
    "plt.colorbar()\n",
    "plt.show()\n",
    "    \n",
    "        \n",
    "# 'listing_id': '1133718',\n",
    "#          'survey_id': '1280',\n",
    "#          'host_id': '6219420',\n",
    "#          'room_type': 'Shared room',\n",
    "#          'country': '',\n",
    "#          'city': 'Singapore',\n",
    "#          'borough': '',\n",
    "#          'neighborhood': 'MK03',\n",
    "#          'reviews': '9',\n",
    "#          'overall_satisfaction': '4.5',\n",
    "#          'accommodates': '12',\n",
    "#          'bedrooms': '1.0',\n",
    "#          'bathrooms': '',\n",
    "#          'price': '74.0',\n",
    "#          'minstay': '',\n",
    "#          'last_modified': '2017-05-17 09:10:25.431659',\n",
    "#          'latitude': '1.293354',\n",
    "#          'longitude': '103.769226',\n",
    "#          'location': '0101000020E6100000E84EB0FF3AF159409C69C2F693B1F43F'\n",
    "#correct goodjob!"
   ]
  },
  {
   "cell_type": "markdown",
   "metadata": {},
   "source": [
    "### Question 10 - Conclusion \n",
    "Based on the findings above can you find out: \n",
    "\n",
    "1. Where are the neighbourhoods with the highest average price? \n",
    "2. Where are the host_ids with  the highest average satisfactions?\n",
    "3. Whether the question 9 hypothesis holds true?\n",
    "\n",
    "Any other insights can you find based on question 2 to 9?"
   ]
  },
  {
   "cell_type": "code",
 #  "execution_count": null,
   "metadata": {},
   "outputs": [],
   "source": [
    "# Write a short sentence answer on the question above as comments below\n",
    "# \n",
    "#\n",
    "1. North-East\n",
    "2. South\n",
    "3. false\n",
    "#correct goodjob!"
   ]
  }
 ],
 "metadata": {
  "kernelspec": {
   "display_name": "Python 3",
   "language": "python",
   "name": "python3"
  },
  "language_info": {
   "codemirror_mode": {
    "name": "ipython",
    "version": 3
   },
   "file_extension": ".py",
   "mimetype": "text/x-python",
   "name": "python",
   "nbconvert_exporter": "python",
   "pygments_lexer": "ipython3",
   "version": "3.7.0"
  }
 },
 "nbformat": 4,
 "nbformat_minor": 2
}
